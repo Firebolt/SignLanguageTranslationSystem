{
 "cells": [
  {
   "cell_type": "markdown",
   "id": "4afeac3e-ca69-4721-b38d-25e2fe3c137d",
   "metadata": {},
   "source": [
    "Import necessary libraries"
   ]
  },
  {
   "cell_type": "code",
   "execution_count": 1,
   "id": "a60b6ea1-75ba-4ec7-a16a-287117bd662f",
   "metadata": {},
   "outputs": [],
   "source": [
    "import numpy as np\n",
    "import pandas as pd\n",
    "import seaborn as sns\n",
    "import matplotlib.pyplot as plt\n",
    "\n",
    "import matplotlib.patheffects as path_effects\n",
    "\n",
    "from sklearn.model_selection import train_test_split\n",
    "from sklearn.preprocessing import LabelBinarizer\n",
    "from sklearn.metrics import accuracy_score\n",
    "\n",
    "import cv2\n",
    "\n",
    "import os\n",
    "\n",
    "os.environ['TF_CPP_MIN_LOG_LEVEL'] = '2' # Stop warning\n",
    "\n",
    "from tensorflow.keras.models import Sequential\n",
    "from tensorflow.keras.layers import Conv2D, MaxPooling2D, Flatten, Dense, Dropout\n",
    "from tensorflow.keras import backend as K\n",
    "from tensorflow.keras.optimizers import Adam"
   ]
  },
  {
   "cell_type": "markdown",
   "id": "7c371758-ccf8-48ef-ba55-36a26bebf4a6",
   "metadata": {},
   "source": [
    "Load the training and testing dataset"
   ]
  },
  {
   "cell_type": "code",
   "execution_count": 2,
   "id": "6cbe7546-d190-4a90-8055-11e89cf352fe",
   "metadata": {},
   "outputs": [],
   "source": [
    "dataset_path = 'dataset'\n",
    "train = pd.read_csv(os.path.join(dataset_path, 'sign_mnist_train.csv'))\n",
    "test = pd.read_csv(os.path.join(dataset_path, 'sign_mnist_test.csv'))\n",
    "labels = train['label'].values # Extract labels"
   ]
  },
  {
   "cell_type": "markdown",
   "id": "1365a735-a935-489f-a336-a11a00eeb286",
   "metadata": {},
   "source": [
    "Remove the label column and binarize the labels"
   ]
  },
  {
   "cell_type": "code",
   "execution_count": 3,
   "id": "8174b798-c271-48f4-8244-c472943ca4da",
   "metadata": {
    "tags": []
   },
   "outputs": [],
   "source": [
    "train.drop('label', axis = 1, inplace = True)\n",
    "label_binarizer = LabelBinarizer()\n",
    "labels = label_binarizer.fit_transform(labels)"
   ]
  },
  {
   "cell_type": "markdown",
   "id": "96e95706-86f7-4e11-a6ac-6d0bed511baa",
   "metadata": {},
   "source": [
    "Convert the data into 2d np array because it's the format Tensorflow uses"
   ]
  },
  {
   "cell_type": "code",
   "execution_count": 4,
   "id": "beeb2deb-5475-41dc-860f-95f22d86f074",
   "metadata": {
    "tags": []
   },
   "outputs": [],
   "source": [
    "images = train.values\n",
    "images = np.array([np.reshape(i, (28, 28, 1)) for i in images])"
   ]
  },
  {
   "cell_type": "markdown",
   "id": "92700a31-193e-4be5-a828-f52b0c027e7a",
   "metadata": {},
   "source": [
    "Split the data into test and train"
   ]
  },
  {
   "cell_type": "code",
   "execution_count": 5,
   "id": "8c186f59-1f8e-49e8-8fe9-af010cb26afb",
   "metadata": {
    "tags": []
   },
   "outputs": [],
   "source": [
    "x_train, x_test, y_train, y_test = train_test_split(train, labels, test_size=0.3, random_state=420)"
   ]
  },
  {
   "cell_type": "markdown",
   "id": "14f029f8-9097-4d58-8081-614d22c18018",
   "metadata": {},
   "source": [
    "Define Hyperparameters"
   ]
  },
  {
   "cell_type": "code",
   "execution_count": 6,
   "id": "c86ab55b-f502-4809-a01b-2dc808914ec8",
   "metadata": {
    "tags": []
   },
   "outputs": [],
   "source": [
    "batch_size = 128\n",
    "num_classes = 24\n",
    "epochs = 10"
   ]
  },
  {
   "cell_type": "markdown",
   "id": "0159563d-955f-4c46-951e-28877afd631b",
   "metadata": {},
   "source": [
    "Normalize the data to be between 0 and 1 and reshape them to be compatible with Tensorflow"
   ]
  },
  {
   "cell_type": "code",
   "execution_count": 7,
   "id": "40785a96-5be1-490e-a750-e6a1faba446c",
   "metadata": {
    "tags": []
   },
   "outputs": [],
   "source": [
    "x_train = x_train.values / 255\n",
    "x_test = x_test.values / 255\n",
    "x_train = x_train.reshape(x_train.shape[0], 28, 28, 1)\n",
    "x_test = x_test.reshape(x_test.shape[0], 28, 28, 1)"
   ]
  },
  {
   "cell_type": "markdown",
   "id": "82fd9c8a-4c82-4866-a273-96cefc9483e9",
   "metadata": {},
   "source": [
    "Print a random image and its label"
   ]
  },
  {
   "cell_type": "code",
   "execution_count": 15,
   "id": "10a09a39-65aa-4dda-9e58-59bf8949c6d5",
   "metadata": {
    "tags": []
   },
   "outputs": [
    {
     "name": "stdout",
     "output_type": "stream",
     "text": [
      "[1 0 0 0 0 0 0 0 0 0 0 0 0 0 0 0 0 0 0 0 0 0 0 0]\n"
     ]
    },
    {
     "data": {
      "text/plain": [
       "<matplotlib.image.AxesImage at 0x7f1c86770f90>"
      ]
     },
     "execution_count": 15,
     "metadata": {},
     "output_type": "execute_result"
    },
    {
     "data": {
      "image/png": "[encoded data removed]",
      "text/plain": [
       "<Figure size 640x480 with 1 Axes>"
      ]
     },
     "metadata": {},
     "output_type": "display_data"
    }
   ],
   "source": [
    "index = np.random.randint(0, len(images))\n",
    "print(labels[index])\n",
    "plt.imshow(images[index], cmap='gray', vmin=0, vmax=255)"
   ]
  },
  {
   "cell_type": "markdown",
   "id": "7433f2fc-a3e4-40e2-92c7-4b20bef14025",
   "metadata": {},
   "source": [
    "Initalize the model"
   ]
  },
  {
   "cell_type": "code",
   "execution_count": 9,
   "id": "78e8a2ad-52dd-40f6-acf1-98decaf6e173",
   "metadata": {},
   "outputs": [],
   "source": [
    "model = Sequential()\n",
    "model.add(Conv2D(64, kernel_size=(3, 3), activation='relu', input_shape=(28, 28, 1)))\n",
    "model.add(MaxPooling2D(pool_size=(2, 2)))\n",
    "\n",
    "model.add(Conv2D(64, kernel_size=(3, 3), activation='relu'))\n",
    "model.add(MaxPooling2D(pool_size=(2, 2)))\n",
    "\n",
    "model.add(Conv2D(64, kernel_size=(3, 3), activation='relu'))\n",
    "model.add(MaxPooling2D(pool_size=(2, 2)))\n",
    "\n",
    "model.add(Flatten())\n",
    "model.add(Dense(128, activation='relu'))\n",
    "model.add(Dropout(0.20))\n",
    "\n",
    "model.add(Dense(num_classes, activation='softmax'))"
   ]
  },
  {
   "cell_type": "markdown",
   "id": "8d27cc86-80c5-41a8-9fdf-8bce9e9a737d",
   "metadata": {},
   "source": [
    "Compile the model"
   ]
  },
  {
   "cell_type": "code",
   "execution_count": 10,
   "id": "5b8d5e40-ce2c-40af-9ffa-26243a51c821",
   "metadata": {},
   "outputs": [],
   "source": [
    "model.compile(loss='categorical_crossentropy',\n",
    "              optimizer= Adam(),\n",
    "              metrics=['accuracy'])"
   ]
  },
  {
   "cell_type": "markdown",
   "id": "6faabab2-bdbc-46ab-a656-214118624dc9",
   "metadata": {},
   "source": [
    "Train the model"
   ]
  },
  {
   "cell_type": "code",
   "execution_count": 11,
   "id": "2553935f-2d6c-4556-ab87-eb87d88bd528",
   "metadata": {
    "tags": []
   },
   "outputs": [
    {
     "name": "stdout",
     "output_type": "stream",
     "text": [
      "Epoch 1/10\n",
      "151/151 [==============================] - 10s 66ms/step - loss: 2.6232 - accuracy: 0.1878 - val_loss: 1.6149 - val_accuracy: 0.5189\n",
      "Epoch 2/10\n",
      "151/151 [==============================] - 9s 60ms/step - loss: 1.2494 - accuracy: 0.5810 - val_loss: 0.8576 - val_accuracy: 0.7208\n",
      "Epoch 3/10\n",
      "151/151 [==============================] - 9s 58ms/step - loss: 0.7536 - accuracy: 0.7435 - val_loss: 0.5227 - val_accuracy: 0.8402\n",
      "Epoch 4/10\n",
      "151/151 [==============================] - 9s 61ms/step - loss: 0.4777 - accuracy: 0.8420 - val_loss: 0.2843 - val_accuracy: 0.9160\n",
      "Epoch 5/10\n",
      "151/151 [==============================] - 10s 65ms/step - loss: 0.3346 - accuracy: 0.8895 - val_loss: 0.1998 - val_accuracy: 0.9491\n",
      "Epoch 6/10\n",
      "151/151 [==============================] - 9s 59ms/step - loss: 0.2377 - accuracy: 0.9222 - val_loss: 0.1765 - val_accuracy: 0.9455\n",
      "Epoch 7/10\n",
      "151/151 [==============================] - 9s 58ms/step - loss: 0.1688 - accuracy: 0.9480 - val_loss: 0.0784 - val_accuracy: 0.9849\n",
      "Epoch 8/10\n",
      "151/151 [==============================] - 9s 60ms/step - loss: 0.1212 - accuracy: 0.9621 - val_loss: 0.0509 - val_accuracy: 0.9928\n",
      "Epoch 9/10\n",
      "151/151 [==============================] - 9s 59ms/step - loss: 0.0907 - accuracy: 0.9728 - val_loss: 0.0373 - val_accuracy: 0.9950\n",
      "Epoch 10/10\n",
      "151/151 [==============================] - 9s 60ms/step - loss: 0.0764 - accuracy: 0.9794 - val_loss: 0.0389 - val_accuracy: 0.9910\n"
     ]
    }
   ],
   "source": [
    "history = model.fit(x_train, y_train, validation_data = (x_test, y_test), epochs=epochs, batch_size = batch_size)"
   ]
  },
  {
   "cell_type": "markdown",
   "id": "0c1e12d2-694a-408f-8746-971c59ab86fb",
   "metadata": {},
   "source": [
    "Showing the increase in accuracy as number of epochs increases"
   ]
  },
  {
   "cell_type": "code",
   "execution_count": 12,
   "id": "aacc1fc8-bb3a-415a-983f-621bc2b90745",
   "metadata": {},
   "outputs": [
    {
     "data": {
      "image/png": "[encoded data removed]",
      "text/plain": [
       "<Figure size 640x480 with 1 Axes>"
      ]
     },
     "metadata": {},
     "output_type": "display_data"
    }
   ],
   "source": [
    "plt.plot(history.history['accuracy'])\n",
    "plt.plot(history.history['val_accuracy'])\n",
    "plt.title(\"Accuracy\")\n",
    "plt.xlabel('epoch')\n",
    "plt.ylabel('accuracy')\n",
    "plt.legend(['train', 'test'])\n",
    "\n",
    "plt.show()"
   ]
  },
  {
   "cell_type": "markdown",
   "id": "37ad70ea-714b-47f9-88be-457da6831633",
   "metadata": {},
   "source": [
    "Test the model on unseen data"
   ]
  },
  {
   "cell_type": "code",
   "execution_count": 13,
   "id": "fb6ac5f1-e8e1-4758-a7a1-339c0f4a423c",
   "metadata": {
    "tags": []
   },
   "outputs": [
    {
     "name": "stdout",
     "output_type": "stream",
     "text": [
      "225/225 [==============================] - 1s 3ms/step\n"
     ]
    }
   ],
   "source": [
    "test_labels = test['label']\n",
    "test.drop('label', axis=1, inplace=True)\n",
    "test_labels = label_binarizer.fit_transform(test_labels)\n",
    "\n",
    "test_images = test.values\n",
    "test_images = np.array([np.reshape(i, (28, 28, 1)) for i in test_images])\n",
    "test_images = test_images / 255.0\n",
    "\n",
    "y_pred = model.predict(test_images)"
   ]
  },
  {
   "cell_type": "markdown",
   "id": "d52cd221-ba8c-4a73-aad2-478f29a0afff",
   "metadata": {},
   "source": [
    "Check accuracy on unseen data"
   ]
  },
  {
   "cell_type": "code",
   "execution_count": 14,
   "id": "3f616a5a-4266-471a-a995-10ae5901a71c",
   "metadata": {
    "tags": []
   },
   "outputs": [
    {
     "data": {
      "text/plain": [
       "0.8680981595092024"
      ]
     },
     "execution_count": 14,
     "metadata": {},
     "output_type": "execute_result"
    }
   ],
   "source": [
    "accuracy_score(test_labels, y_pred.round())"
   ]
  }
 ],
 "metadata": {
  "kernelspec": {
   "display_name": "Python 3 (ipykernel)",
   "language": "python",
   "name": "python3"
  },
  "language_info": {
   "codemirror_mode": {
    "name": "ipython",
    "version": 3
   },
   "file_extension": ".py",
   "mimetype": "text/x-python",
   "name": "python",
   "nbconvert_exporter": "python",
   "pygments_lexer": "ipython3",
   "version": "3.7.17"
  }
 },
 "nbformat": 4,
 "nbformat_minor": 5
}
