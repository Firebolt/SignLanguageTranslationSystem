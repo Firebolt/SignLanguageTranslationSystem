{
 "cells": [
  {
   "cell_type": "markdown",
   "id": "4afeac3e-ca69-4721-b38d-25e2fe3c137d",
   "metadata": {},
   "source": [
    "Import necessary libraries"
   ]
  },
  {
   "cell_type": "code",
   "execution_count": null,
   "id": "a60b6ea1-75ba-4ec7-a16a-287117bd662f",
   "metadata": {},
   "outputs": [],
   "source": [
    "import numpy as np\n",
    "import pandas as pd\n",
    "import seaborn as sns\n",
    "import matplotlib.pyplot as plt\n",
    "\n",
    "import matplotlib.patheffects as path_effects\n",
    "\n",
    "from sklearn.model_selection import train_test_split\n",
    "from sklearn.preprocessing import LabelBinarizer\n",
    "from sklearn.metrics import accuracy_score\n",
    "\n",
    "import cv2\n",
    "\n",
    "import os\n",
    "\n",
    "from tensorflow.keras.models import Sequential\n",
    "from tensorflow.keras.layers import Conv2D, MaxPooling2D, Flatten, Dense, Dropout\n",
    "from tensorflow.keras import backend as K\n",
    "from tensorflow.keras.optimizers import Adam"
   ]
  },
  {
   "cell_type": "markdown",
   "id": "7c371758-ccf8-48ef-ba55-36a26bebf4a6",
   "metadata": {},
   "source": [
    "Load the training and testing dataset"
   ]
  },
  {
   "cell_type": "code",
   "execution_count": 2,
   "id": "6cbe7546-d190-4a90-8055-11e89cf352fe",
   "metadata": {},
   "outputs": [],
   "source": [
    "dataset_path = 'dataset'\n",
    "train = pd.read_csv(os.path.join(dataset_path, 'sign_mnist_train.csv'))\n",
    "test = pd.read_csv(os.path.join(dataset_path, 'sign_mnist_test.csv'))\n",
    "labels = train['label'].values # Extract labels"
   ]
  },
  {
   "cell_type": "markdown",
   "id": "1365a735-a935-489f-a336-a11a00eeb286",
   "metadata": {},
   "source": [
    "Remove the label column and binarize the labels"
   ]
  },
  {
   "cell_type": "code",
   "execution_count": 3,
   "id": "8174b798-c271-48f4-8244-c472943ca4da",
   "metadata": {
    "tags": []
   },
   "outputs": [],
   "source": [
    "train.drop('label', axis = 1, inplace = True)\n",
    "label_binarizer = LabelBinarizer()\n",
    "labels = label_binarizer.fit_transform(labels)"
   ]
  },
  {
   "cell_type": "markdown",
   "id": "96e95706-86f7-4e11-a6ac-6d0bed511baa",
   "metadata": {},
   "source": [
    "Convert the data into 2d np array because it's the format Tensorflow uses"
   ]
  },
  {
   "cell_type": "code",
   "execution_count": 4,
   "id": "beeb2deb-5475-41dc-860f-95f22d86f074",
   "metadata": {
    "tags": []
   },
   "outputs": [],
   "source": [
    "images = train.values\n",
    "images = np.array([np.reshape(i, (28, 28, 1)) for i in images])\n",
    "# images = np.array([i.flatten() for i in images])"
   ]
  },
  {
   "cell_type": "markdown",
   "id": "92700a31-193e-4be5-a828-f52b0c027e7a",
   "metadata": {},
   "source": [
    "Split the data into test and train"
   ]
  },
  {
   "cell_type": "code",
   "execution_count": 5,
   "id": "8c186f59-1f8e-49e8-8fe9-af010cb26afb",
   "metadata": {
    "tags": []
   },
   "outputs": [],
   "source": [
    "x_train, x_test, y_train, y_test = train_test_split(train, labels, test_size=0.3, random_state=420)"
   ]
  },
  {
   "cell_type": "markdown",
   "id": "14f029f8-9097-4d58-8081-614d22c18018",
   "metadata": {},
   "source": [
    "Define Hyperparameters"
   ]
  },
  {
   "cell_type": "code",
   "execution_count": 6,
   "id": "c86ab55b-f502-4809-a01b-2dc808914ec8",
   "metadata": {
    "tags": []
   },
   "outputs": [],
   "source": [
    "batch_size = 128\n",
    "num_classes = 24\n",
    "epochs = 10"
   ]
  },
  {
   "cell_type": "markdown",
   "id": "0159563d-955f-4c46-951e-28877afd631b",
   "metadata": {},
   "source": [
    "Normalize the data to be between 0 and 1"
   ]
  },
  {
   "cell_type": "code",
   "execution_count": 7,
   "id": "40785a96-5be1-490e-a750-e6a1faba446c",
   "metadata": {
    "tags": []
   },
   "outputs": [],
   "source": [
    "x_train = x_train/255\n",
    "x_test = x_test/255"
   ]
  },
  {
   "cell_type": "markdown",
   "id": "82fd9c8a-4c82-4866-a273-96cefc9483e9",
   "metadata": {},
   "source": [
    "Print a random image and its label"
   ]
  },
  {
   "cell_type": "code",
   "execution_count": 14,
   "id": "10a09a39-65aa-4dda-9e58-59bf8949c6d5",
   "metadata": {
    "tags": []
   },
   "outputs": [
    {
     "name": "stdout",
     "output_type": "stream",
     "text": [
      "[0 0 0 0 0 0 0 0 0 1 0 0 0 0 0 0 0 0 0 0 0 0 0 0]\n"
     ]
    },
    {
     "data": {
      "text/plain": [
       "<matplotlib.image.AxesImage at 0x7f8a71f1e750>"
      ]
     },
     "execution_count": 14,
     "metadata": {},
     "output_type": "execute_result"
    },
    {
     "data": {
      "image/png": "[encoded data removed]",
      "text/plain": [
       "<Figure size 640x480 with 1 Axes>"
      ]
     },
     "metadata": {},
     "output_type": "display_data"
    }
   ],
   "source": [
    "index = np.random.randint(0, len(images))\n",
    "print(labels[index])\n",
    "plt.imshow(images[index])"
   ]
  }
 ],
 "metadata": {
  "kernelspec": {
   "display_name": "Python 3 (ipykernel)",
   "language": "python",
   "name": "python3"
  },
  "language_info": {
   "codemirror_mode": {
    "name": "ipython",
    "version": 3
   },
   "file_extension": ".py",
   "mimetype": "text/x-python",
   "name": "python",
   "nbconvert_exporter": "python",
   "pygments_lexer": "ipython3",
   "version": "3.7.17"
  }
 },
 "nbformat": 4,
 "nbformat_minor": 5
}
