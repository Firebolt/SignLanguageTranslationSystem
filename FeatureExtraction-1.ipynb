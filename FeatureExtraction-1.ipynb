{
 "cells": [
  {
   "cell_type": "code",
   "execution_count": null,
   "id": "7b96a9ac-e73e-4e7f-88e2-9614b84fa18f",
   "metadata": {
    "tags": []
   },
   "outputs": [],
   "source": [
    "from PIL import Image\n",
    "import numpy as np\n",
    "import matplotlib.pyplot as plt\n",
    "import os\n",
    "import pandas as pd\n",
    "from concurrent.futures import ThreadPoolExecutor"
   ]
  },
  {
   "cell_type": "code",
   "execution_count": null,
   "id": "eea10e41-d971-4c59-9362-f8450e57b870",
   "metadata": {
    "tags": []
   },
   "outputs": [],
   "source": [
    "def convert_to_greyscale_28x28(image_path):\n",
    "    img = Image.open(image_path)\n",
    "    grey_img = img.convert(\"L\")\n",
    "    resized_img = grey_img.resize((28, 28))\n",
    "    return resized_img"
   ]
  },
  {
   "cell_type": "code",
   "execution_count": null,
   "id": "7e89b2e2-9cba-44a2-a9de-4c1ee6af16d9",
   "metadata": {},
   "outputs": [],
   "source": [
    "def process_images_in_parallel(image_paths):\n",
    "    with ThreadPoolExecutor() as executor:\n",
    "        results = list(executor.map(convert_to_greyscale_28x28, image_paths))\n",
    "    return results"
   ]
  },
  {
   "cell_type": "code",
   "execution_count": null,
   "id": "f6241fb8-f4c3-41c7-ae8a-b93af3baaad0",
   "metadata": {
    "tags": []
   },
   "outputs": [],
   "source": [
    "def store_features(file_path, output_df):\n",
    "    if os.path.isfile(file_path):\n",
    "        output_df.to_csv(file_path, mode='a', header=False, index=False)\n",
    "    else:\n",
    "        output_df.to_csv(file_path, mode='w', header=True, index=False)"
   ]
  },
  {
   "cell_type": "code",
   "execution_count": null,
   "id": "ff779856-5ef6-464e-8652-858e52d94701",
   "metadata": {
    "tags": []
   },
   "outputs": [],
   "source": [
    "input_path = 'dataset/asl_dataset'\n",
    "output_path = 'dataset/train.csv'\n",
    "df = pd.DataFrame(columns = ['label'] + [f'pixel{i}' for i in range(1, 785)])\n",
    "\n",
    "if os.path.isfile(input_path):\n",
    "    label = 'a'\n",
    "    transformed_image = convert_to_greyscale_28x28(input_path)\n",
    "    plt.imshow(transformed_image, cmap='gray', vmin=0, vmax=255)\n",
    "    features = np.array(transformed_image).flatten()\n",
    "    df = df.append({'label': label, **dict(zip(df.columns[1:], features))}, ignore_index=True)\n",
    "elif os.path.isdir(input_path):\n",
    "    for label in os.listdir(input_path):\n",
    "        label_path = os.path.join(input_path, label)\n",
    "        image_paths = [os.path.join(label_path, filename) for filename in os.listdir(label_path)]\n",
    "        processed_images = process_images_in_parallel(image_paths)\n",
    "        for image in processed_images:\n",
    "            features = np.array(image).flatten()\n",
    "            df = df.append({'label': label, **dict(zip(df.columns[1:], features))}, ignore_index=True)\n",
    "    store_features(output_path, df)\n",
    "else:\n",
    "    print(\"The path is not valid\")"
   ]
  }
 ],
 "metadata": {
  "kernelspec": {
   "display_name": "Python 3 (ipykernel)",
   "language": "python",
   "name": "python3"
  },
  "language_info": {
   "codemirror_mode": {
    "name": "ipython",
    "version": 3
   },
   "file_extension": ".py",
   "mimetype": "text/x-python",
   "name": "python",
   "nbconvert_exporter": "python",
   "pygments_lexer": "ipython3",
   "version": "3.7.17"
  }
 },
 "nbformat": 4,
 "nbformat_minor": 5
}
